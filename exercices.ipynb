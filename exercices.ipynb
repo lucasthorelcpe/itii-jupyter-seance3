{
 "cells": [
  {
   "cell_type": "code",
   "execution_count": null,
   "metadata": {},
   "outputs": [],
   "source": [
    "#Exercice 1\n",
    "\n",
    "import mathplotlib.pyplot as plt\n",
    "import numpy as np\n",
    "\n",
    "x_list= np.arange(0,1,0.01)\n",
    "plt.pllot(x_list, f(x_list))\n",
    "\n",
    "def f(x):\n",
    "    return x**3+2*x-2\n",
    "\n",
    "def plot_f(function;interv=[0,1],step=1e-2):\n",
    "   x_list = np.arange(0,1,step)\n",
    "    plt.plot(x_list, f(x_list),linewidth=3)\n",
    "    plt.xlim(interv)\n",
    "    plt.xlabel(\"x\",size12)\n",
    "    plt.ylabel(\"f(x)\",size=12)\n",
    "    plt.hlines(0,interv[0],interv[1],linestyle='--',linewidth=1)\n",
    "    plt.show()\n",
    "    \n",
    "def est-monotone(interv=[0,1],step=1e-1):\n",
    "    x_list=np.arange(interv[0]+step,interv[1]+step,step)\n",
    "    previous_val=f(interv[0])\n",
    "    \n",
    "    for x in x_list:\n",
    "        val = f(x)\n",
    "        \n",
    "        \n",
    "        \n",
    "\n",
    "\n"
   ]
  },
  {
   "cell_type": "code",
   "execution_count": 3,
   "metadata": {},
   "outputs": [
    {
     "ename": "NameError",
     "evalue": "name 'f' is not defined",
     "output_type": "error",
     "traceback": [
      "\u001b[1;31m---------------------------------------------------------------------------\u001b[0m",
      "\u001b[1;31mNameError\u001b[0m                                 Traceback (most recent call last)",
      "\u001b[1;32m<ipython-input-3-6f8ef09c3080>\u001b[0m in \u001b[0;36m<module>\u001b[1;34m\u001b[0m\n\u001b[0;32m     11\u001b[0m         \u001b[0mcompteur\u001b[0m\u001b[1;33m=\u001b[0m\u001b[0mcompteur\u001b[0m\u001b[1;33m+\u001b[0m\u001b[1;36m1\u001b[0m\u001b[1;33m\u001b[0m\u001b[1;33m\u001b[0m\u001b[0m\n\u001b[0;32m     12\u001b[0m \u001b[1;33m\u001b[0m\u001b[0m\n\u001b[1;32m---> 13\u001b[1;33m \u001b[0mprint\u001b[0m\u001b[1;33m(\u001b[0m\u001b[0mracine\u001b[0m\u001b[1;33m(\u001b[0m\u001b[1;36m10\u001b[0m\u001b[1;33m)\u001b[0m\u001b[1;33m)\u001b[0m\u001b[1;33m\u001b[0m\u001b[1;33m\u001b[0m\u001b[0m\n\u001b[0m",
      "\u001b[1;32m<ipython-input-3-6f8ef09c3080>\u001b[0m in \u001b[0;36mracine\u001b[1;34m(N)\u001b[0m\n\u001b[0;32m      5\u001b[0m \u001b[1;33m\u001b[0m\u001b[0m\n\u001b[0;32m      6\u001b[0m     \u001b[1;32mwhile\u001b[0m \u001b[0mcompteur\u001b[0m \u001b[1;33m<\u001b[0m \u001b[0mN\u001b[0m\u001b[1;33m:\u001b[0m\u001b[1;33m\u001b[0m\u001b[1;33m\u001b[0m\u001b[0m\n\u001b[1;32m----> 7\u001b[1;33m         \u001b[1;32mif\u001b[0m \u001b[0mf\u001b[0m\u001b[1;33m(\u001b[0m\u001b[0mintervalle\u001b[0m\u001b[1;33m[\u001b[0m\u001b[1;36m0\u001b[0m\u001b[1;33m]\u001b[0m\u001b[1;33m)\u001b[0m\u001b[1;33m*\u001b[0m\u001b[0mf\u001b[0m\u001b[1;33m(\u001b[0m\u001b[0mintervalle\u001b[0m\u001b[1;33m[\u001b[0m\u001b[1;36m1\u001b[0m\u001b[1;33m]\u001b[0m\u001b[1;33m)\u001b[0m\u001b[1;33m<\u001b[0m\u001b[1;36m0\u001b[0m\u001b[1;33m:\u001b[0m\u001b[1;33m\u001b[0m\u001b[1;33m\u001b[0m\u001b[0m\n\u001b[0m\u001b[0;32m      8\u001b[0m             \u001b[0mintervalle\u001b[0m\u001b[1;33m=\u001b[0m\u001b[1;33m[\u001b[0m\u001b[0mintervalle\u001b[0m\u001b[1;33m[\u001b[0m\u001b[1;36m0\u001b[0m\u001b[1;33m]\u001b[0m\u001b[1;33m,\u001b[0m\u001b[1;33m(\u001b[0m\u001b[0minteralle\u001b[0m\u001b[1;33m[\u001b[0m\u001b[1;36m0\u001b[0m\u001b[1;33m]\u001b[0m\u001b[1;33m+\u001b[0m\u001b[0mintervalle\u001b[0m\u001b[1;33m[\u001b[0m\u001b[1;36m1\u001b[0m\u001b[1;33m]\u001b[0m\u001b[1;33m)\u001b[0m\u001b[1;33m/\u001b[0m\u001b[1;36m2\u001b[0m\u001b[1;33m,\u001b[0m\u001b[0mintervalle\u001b[0m\u001b[1;33m]\u001b[0m\u001b[1;33m\u001b[0m\u001b[1;33m\u001b[0m\u001b[0m\n\u001b[0;32m      9\u001b[0m         \u001b[1;32melse\u001b[0m\u001b[1;33m:\u001b[0m\u001b[1;33m\u001b[0m\u001b[1;33m\u001b[0m\u001b[0m\n",
      "\u001b[1;31mNameError\u001b[0m: name 'f' is not defined"
     ]
    }
   ],
   "source": [
    "def racine(N):\n",
    "    import numpy as np\n",
    "    intervalle=[0,0.5,1]\n",
    "    compteur=0\n",
    "    \n",
    "    while compteur < N:\n",
    "        if f(intervalle[0])*f(intervalle[1])<0:\n",
    "            intervalle=[intervalle[0],(interalle[0]+intervalle[1])/2,intervalle]\n",
    "        else:\n",
    "            intervalle=[intervalle[1],(interalle[1]+intervalle[2])/2,intervalle]\n",
    "        compteur=compteur+1\n",
    "    \n",
    "print(racine(10))"
   ]
  },
  {
   "cell_type": "code",
   "execution_count": 7,
   "metadata": {},
   "outputs": [
    {
     "name": "stdout",
     "output_type": "stream",
     "text": [
      "Carré magique d'ordre 9:\n",
      "37  48  59  70  81   2  13  24  35 = 369\n",
      "36  38  49  60  71  73   3  14  25 = 369\n",
      "26  28  39  50  61  72  74   4  15 = 369\n",
      "16  27  29  40  51  62  64  75   5 = 369\n",
      " 6  17  19  30  41  52  63  65  76 = 369\n",
      "77   7  18  20  31  42  53  55  66 = 369\n",
      "67  78   8  10  21  32  43  54  56 = 369\n",
      "57  68  79   9  11  22  33  44  46 = 369\n",
      "47  58  69  80   1  12  23  34  45 = 369\n",
      "==  ==  ==  ==  ==  ==  ==  ==  ==\n",
      "369  369  369  369  369  369  369  369  369\n"
     ]
    }
   ],
   "source": [
    "n = 9\n",
    "\n",
    "# On vérifie que l'ordre est bien impair\n",
    "assert n % 2 == 1, f\"L'ordre {n} n'est pas impair.\"\n",
    "\n",
    "# Le carré sera stocké dans une liste de n listes de n entiers\n",
    "# Initialisation du carré: liste de n listes de n zéros.\n",
    "array = [[0 for j in range(n)] for i in range(n)]\n",
    "\n",
    "# Initialisation de l'algorithme\n",
    "i, j = n, (n + 1) // 2        # Indices de l'algo (1-indexation)\n",
    "array[i - 1][j - 1] = 1       # Attention: python utilise une 0-indexation\n",
    "\n",
    "# Boucle sur valeurs restant à inclure dans le carré (de 2 à n**2)\n",
    "for k in range(2, n**2 + 1):\n",
    "    # Test de la case i+1, j+1 (modulo n)\n",
    "    i2 = (i + 1) % n\n",
    "    j2 = (j + 1) % n\n",
    "    if array[i2 - 1][j2 - 1] == 0:  # La case est vide: l'utiliser\n",
    "        i, j = i2, j2\n",
    "    # La case est déjà remplie: utiliser la case i-1, j\n",
    "    else:\n",
    "        i = (i - 1) % n\n",
    "    array[i - 1][j - 1] = k       # Remplissage de la case\n",
    "\n",
    "# Affichage, avec vérification des sommes par ligne et par colonne\n",
    "print(f\"Carré magique d'ordre {n}:\")\n",
    "for row in array:\n",
    "    print('  '.join(f'{k:2d}' for k in row), '=', sum(row))\n",
    "print('  '.join('==' for k in row))\n",
    "print('  '.join(str(sum(array[i][j] for i in range(n))) for j in range(n)))"
   ]
  },
  {
   "cell_type": "code",
   "execution_count": null,
   "metadata": {},
   "outputs": [],
   "source": []
  }
 ],
 "metadata": {
  "kernelspec": {
   "display_name": "Python 3",
   "language": "python",
   "name": "python3"
  },
  "language_info": {
   "codemirror_mode": {
    "name": "ipython",
    "version": 3
   },
   "file_extension": ".py",
   "mimetype": "text/x-python",
   "name": "python",
   "nbconvert_exporter": "python",
   "pygments_lexer": "ipython3",
   "version": "3.7.6"
  }
 },
 "nbformat": 4,
 "nbformat_minor": 4
}
